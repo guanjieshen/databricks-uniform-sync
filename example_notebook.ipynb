{
 "cells": [
  {
   "cell_type": "markdown",
   "metadata": {
    "application/vnd.databricks.v1+cell": {
     "cellMetadata": {
      "byteLimit": 2048000,
      "rowLimit": 10000
     },
     "inputWidgets": {},
     "nuid": "ab9b975c-d920-4e0e-9f1b-b64921a523c7",
     "showTitle": false,
     "tableResultSettingsMap": {},
     "title": ""
    }
   },
   "source": [
    "### Install databricks-uniform-sync"
   ]
  },
  {
   "cell_type": "code",
   "execution_count": 0,
   "metadata": {
    "application/vnd.databricks.v1+cell": {
     "cellMetadata": {
      "byteLimit": 2048000,
      "rowLimit": 10000
     },
     "inputWidgets": {},
     "nuid": "1bd65a2e-afcc-4468-935d-e87c111645e2",
     "showTitle": false,
     "tableResultSettingsMap": {},
     "title": ""
    }
   },
   "outputs": [],
   "source": [
    "%pip install databricks-uniform-sync"
   ]
  },
  {
   "cell_type": "markdown",
   "metadata": {
    "application/vnd.databricks.v1+cell": {
     "cellMetadata": {
      "byteLimit": 2048000,
      "rowLimit": 10000
     },
     "inputWidgets": {},
     "nuid": "c1b89560-ea19-41f9-8fff-44c7445f3417",
     "showTitle": false,
     "tableResultSettingsMap": {},
     "title": ""
    }
   },
   "source": [
    "Restart Python Kernel"
   ]
  },
  {
   "cell_type": "code",
   "execution_count": 0,
   "metadata": {
    "application/vnd.databricks.v1+cell": {
     "cellMetadata": {
      "byteLimit": 2048000,
      "rowLimit": 10000
     },
     "inputWidgets": {},
     "nuid": "80a8cc37-5e8d-48da-809a-4ed8823d5ef7",
     "showTitle": false,
     "tableResultSettingsMap": {},
     "title": ""
    }
   },
   "outputs": [],
   "source": [
    "dbutils.library.restartPython()"
   ]
  },
  {
   "cell_type": "markdown",
   "metadata": {
    "application/vnd.databricks.v1+cell": {
     "cellMetadata": {
      "byteLimit": 2048000,
      "rowLimit": 10000
     },
     "inputWidgets": {},
     "nuid": "2ade0f68-44c1-4c1d-bd2b-46ac1eab3aa3",
     "showTitle": false,
     "tableResultSettingsMap": {},
     "title": ""
    }
   },
   "source": [
    "### Configure Required Inputs"
   ]
  },
  {
   "cell_type": "code",
   "execution_count": 0,
   "metadata": {
    "application/vnd.databricks.v1+cell": {
     "cellMetadata": {
      "byteLimit": 2048000,
      "rowLimit": 10000
     },
     "inputWidgets": {},
     "nuid": "900234c2-2875-40fa-8761-9d30ec838ed1",
     "showTitle": false,
     "tableResultSettingsMap": {},
     "title": ""
    }
   },
   "outputs": [],
   "source": [
    "# === Databricks Parameters ===\n",
    "\n",
    "dbx_workspace_url = str(\n",
    "    dbutils.notebook.entry_point.getDbutils().notebook().getContext().apiUrl().getOrElse(None)\n",
    ")  # Automatically retrieves URL of the current Databricks workspace\n",
    "\n",
    "dbx_workspace_pat = (\n",
    "    dbutils.notebook.entry_point.getDbutils()\n",
    "    .notebook()\n",
    "    .getContext()\n",
    "    .apiToken()\n",
    "    .getOrElse(None)\n",
    ") # Automatically retrieves Personal Access Token for Databricks authentication\n",
    "\n",
    "metadata_catalog = \"guanjie_catalog\"  # Unity Catalog catalog to store metadata\n",
    "metadata_schema = \"databricks_uniform_sync\"  # Unity Catalog schema to store metadata\n",
    "metadata_table_name = \"uniform_sync_metadata\"  # (Optional) Custom name for metadata table\n",
    "\n",
    "oauth_client_id = \"XXXX\"  # Databricks OAuth client ID\n",
    "oauth_client_secret = \"XXX\"  # Databricks OAuth client secret (use secrets management)\n",
    "\n",
    "\n",
    "catalogs_to_sync = [\"gshen_uniform\",\"guanjie_catalog\"] # Which UC catalogs to synchronize to Snowflake\n",
    "\n",
    "# === Snowflake Parameters ===\n",
    "\n",
    "sf_account_id = \"XXX\"  # Snowflake account identifier\n",
    "sf_user = \"databricks_service_account\"  # Snowflake user or service account\n",
    "\n",
    "sf_private_key_file = \"rsa/rsa_key.p8\"  # Path to Snowflake RSA private key\n",
    "sf_private_key_file_pwd = \"XXX\"  # Password for decrypting the private key (use secrets management)\n",
    "\n",
    "# === Optional Parameters ===\n",
    "\n",
    "refresh_interval_seconds = 300  # (Optional) Catalog Integration refresh interval (in seconds)\n",
    "auto_refresh = True  # (Optional) Enable/disable automatic table refresh\n"
   ]
  },
  {
   "cell_type": "markdown",
   "metadata": {
    "application/vnd.databricks.v1+cell": {
     "cellMetadata": {
      "byteLimit": 2048000,
      "rowLimit": 10000
     },
     "inputWidgets": {},
     "nuid": "e777f155-4f3f-473f-b7c2-4e15c5ef1862",
     "showTitle": false,
     "tableResultSettingsMap": {},
     "title": ""
    }
   },
   "source": [
    "### Create & Refresh Metadata Tables"
   ]
  },
  {
   "cell_type": "code",
   "execution_count": 0,
   "metadata": {
    "application/vnd.databricks.v1+cell": {
     "cellMetadata": {
      "byteLimit": 2048000,
      "rowLimit": 10000
     },
     "inputWidgets": {},
     "nuid": "b6c42184-fdab-4ee6-8c62-cd8dd1746a81",
     "showTitle": false,
     "tableResultSettingsMap": {},
     "title": ""
    }
   },
   "outputs": [],
   "source": [
    "# Import the main class responsible for syncing metadata from Databricks to Snowflake\n",
    "from databricks_uniform_sync.dbx_to_sf_mirror import DatabricksToSnowflakeMirror\n",
    "\n",
    "# Initialize the mirror helper with Spark session and workspace credentials\n",
    "d2s_mirror = DatabricksToSnowflakeMirror(\n",
    "    spark_session=spark,                       # Active Spark session\n",
    "    dbx_workspace_url=dbx_workspace_url,       # Databricks workspace URL\n",
    "    dbx_workspace_pat=dbx_workspace_pat,       # Personal Access Token for Databricks\n",
    "    metadata_catalog=metadata_catalog,         # Catalog where sync metadata is stored\n",
    "    metadata_schema=metadata_schema            # Schema for sync metadata\n",
    ")\n",
    "\n",
    "# Refresh metadata in Unity Catalog for each catalog that needs syncing\n",
    "for catalog in catalogs_to_sync:\n",
    "    d2s_mirror.refresh_uc_metadata(catalog)"
   ]
  },
  {
   "cell_type": "code",
   "execution_count": 0,
   "metadata": {
    "application/vnd.databricks.v1+cell": {
     "cellMetadata": {
      "byteLimit": 2048000,
      "rowLimit": 10000
     },
     "inputWidgets": {},
     "nuid": "adaa4e2a-2a89-41f5-a582-034649d58465",
     "showTitle": false,
     "tableResultSettingsMap": {},
     "title": ""
    }
   },
   "outputs": [],
   "source": [
    "metadata_table = spark.read.table(f\"{metadata_catalog}.{metadata_schema}.dbx_sf_uniform_metadata_vw\")\n",
    "display(metadata_table)"
   ]
  },
  {
   "cell_type": "markdown",
   "metadata": {
    "application/vnd.databricks.v1+cell": {
     "cellMetadata": {
      "byteLimit": 2048000,
      "rowLimit": 10000
     },
     "inputWidgets": {},
     "nuid": "12efdf77-c655-4928-957e-a50763d610ea",
     "showTitle": false,
     "tableResultSettingsMap": {},
     "title": ""
    }
   },
   "source": [
    "### Generate Unity Catalog Discovery Tags"
   ]
  },
  {
   "cell_type": "code",
   "execution_count": 0,
   "metadata": {
    "application/vnd.databricks.v1+cell": {
     "cellMetadata": {
      "byteLimit": 2048000,
      "rowLimit": 10000
     },
     "inputWidgets": {},
     "nuid": "06b178aa-2fd1-42d1-99a6-962d8bcdb954",
     "showTitle": false,
     "tableResultSettingsMap": {},
     "title": ""
    }
   },
   "outputs": [],
   "source": [
    "d2s_mirror.refresh_uc_metadata_tags()"
   ]
  },
  {
   "cell_type": "markdown",
   "metadata": {
    "application/vnd.databricks.v1+cell": {
     "cellMetadata": {
      "byteLimit": 2048000,
      "rowLimit": 10000
     },
     "inputWidgets": {},
     "nuid": "05fff742-11a5-4988-80e9-054347d8c7be",
     "showTitle": false,
     "tableResultSettingsMap": {},
     "title": ""
    }
   },
   "source": [
    "### Create Snowflake Catalog Integrations"
   ]
  },
  {
   "cell_type": "markdown",
   "metadata": {
    "application/vnd.databricks.v1+cell": {
     "cellMetadata": {
      "byteLimit": 2048000,
      "rowLimit": 10000
     },
     "inputWidgets": {},
     "nuid": "15fa05e1-2cde-4a76-98b2-7a8d4f61fd29",
     "showTitle": false,
     "tableResultSettingsMap": {},
     "title": ""
    }
   },
   "source": [
    "Print the SQL DDL for Catalog Integrations."
   ]
  },
  {
   "cell_type": "code",
   "execution_count": 0,
   "metadata": {
    "application/vnd.databricks.v1+cell": {
     "cellMetadata": {
      "byteLimit": 2048000,
      "rowLimit": 10000
     },
     "inputWidgets": {},
     "nuid": "84e99789-d3d9-4ade-b772-21559c12b28d",
     "showTitle": false,
     "tableResultSettingsMap": {},
     "title": ""
    }
   },
   "outputs": [],
   "source": [
    "sql_ddl = d2s_mirror.generate_create_sf_catalog_integrations_sql(\n",
    "    oauth_client_id=oauth_client_id,\n",
    "    oauth_client_secret=oauth_client_secret,\n",
    "    refresh_interval_seconds=refresh_interval_seconds,\n",
    ")\n",
    "for i in range(len(sql_ddl)):\n",
    "    print(sql_ddl[i])"
   ]
  },
  {
   "cell_type": "markdown",
   "metadata": {
    "application/vnd.databricks.v1+cell": {
     "cellMetadata": {
      "byteLimit": 2048000,
      "rowLimit": 10000
     },
     "inputWidgets": {},
     "nuid": "1b8f092f-e10d-43d0-ac61-0f87f6b876c5",
     "showTitle": false,
     "tableResultSettingsMap": {},
     "title": ""
    }
   },
   "source": [
    "Create Catalog Integrations within Snowflake."
   ]
  },
  {
   "cell_type": "code",
   "execution_count": 0,
   "metadata": {
    "application/vnd.databricks.v1+cell": {
     "cellMetadata": {
      "byteLimit": 2048000,
      "rowLimit": 10000
     },
     "inputWidgets": {},
     "nuid": "ffb91c72-d61a-4294-8c97-a9e3c7ebbf25",
     "showTitle": false,
     "tableResultSettingsMap": {},
     "title": ""
    }
   },
   "outputs": [],
   "source": [
    "d2s_mirror.create_sf_catalog_integrations(\n",
    "    sf_account_id=sf_account_id,\n",
    "    sf_user=sf_user,\n",
    "    sf_private_key_file=sf_private_key_file,\n",
    "    sf_private_key_file_pwd=sf_private_key_file_pwd,\n",
    "    oauth_client_id=oauth_client_id,\n",
    "    oauth_client_secret=oauth_client_secret,\n",
    "    refresh_interval_seconds = refresh_interval_seconds\n",
    ")"
   ]
  },
  {
   "cell_type": "markdown",
   "metadata": {
    "application/vnd.databricks.v1+cell": {
     "cellMetadata": {
      "byteLimit": 2048000,
      "rowLimit": 10000
     },
     "inputWidgets": {},
     "nuid": "4a7eb65d-7cdd-49b5-87f7-d7a89758dc3b",
     "showTitle": false,
     "tableResultSettingsMap": {},
     "title": ""
    }
   },
   "source": [
    "%md\n",
    "### Create Snowflake Iceberg Tables"
   ]
  },
  {
   "cell_type": "markdown",
   "metadata": {
    "application/vnd.databricks.v1+cell": {
     "cellMetadata": {
      "byteLimit": 2048000,
      "rowLimit": 10000
     },
     "inputWidgets": {},
     "nuid": "a7050f55-2507-4157-a345-42e83c97e0cf",
     "showTitle": false,
     "tableResultSettingsMap": {},
     "title": ""
    }
   },
   "source": [
    "Print the SQL DDL for Iceberg Tables."
   ]
  },
  {
   "cell_type": "code",
   "execution_count": 0,
   "metadata": {
    "application/vnd.databricks.v1+cell": {
     "cellMetadata": {
      "byteLimit": 2048000,
      "rowLimit": 10000
     },
     "inputWidgets": {},
     "nuid": "23ec3dcb-4010-4bde-8e4d-4915ce2698bb",
     "showTitle": false,
     "tableResultSettingsMap": {},
     "title": ""
    }
   },
   "outputs": [],
   "source": [
    "sql_ddl = d2s_mirror.generate_create_sf_iceberg_tables_sql()\n",
    "for i in range(len(sql_ddl)):\n",
    "    print(sql_ddl[i])"
   ]
  },
  {
   "cell_type": "markdown",
   "metadata": {
    "application/vnd.databricks.v1+cell": {
     "cellMetadata": {
      "byteLimit": 2048000,
      "rowLimit": 10000
     },
     "inputWidgets": {},
     "nuid": "c1948d99-6a5a-457a-9e96-bbd4321352cc",
     "showTitle": false,
     "tableResultSettingsMap": {},
     "title": ""
    }
   },
   "source": [
    "Create Iceberg Tables within Snowflake."
   ]
  },
  {
   "cell_type": "code",
   "execution_count": 0,
   "metadata": {
    "application/vnd.databricks.v1+cell": {
     "cellMetadata": {
      "byteLimit": 2048000,
      "rowLimit": 10000
     },
     "inputWidgets": {},
     "nuid": "0de89226-cff2-4f1e-b4e8-23c2ef4278fc",
     "showTitle": false,
     "tableResultSettingsMap": {},
     "title": ""
    }
   },
   "outputs": [],
   "source": [
    "d2s_mirror.create_sf_iceberg_tables(\n",
    "    sf_account_id=sf_account_id,\n",
    "    sf_user=sf_user,\n",
    "    sf_private_key_file=sf_private_key_file,\n",
    "    sf_private_key_file_pwd=sf_private_key_file_pwd,\n",
    "    auto_refresh = auto_refresh\n",
    ")"
   ]
  },
  {
   "cell_type": "code",
   "execution_count": 0,
   "metadata": {
    "application/vnd.databricks.v1+cell": {
     "cellMetadata": {
      "byteLimit": 2048000,
      "rowLimit": 10000
     },
     "inputWidgets": {},
     "nuid": "922d789f-4054-4a80-99e0-8a27779529bc",
     "showTitle": false,
     "tableResultSettingsMap": {},
     "title": ""
    }
   },
   "outputs": [],
   "source": []
  }
 ],
 "metadata": {
  "application/vnd.databricks.v1+notebook": {
   "computePreferences": null,
   "dashboards": [],
   "environmentMetadata": {
    "base_environment": "",
    "environment_version": "2"
   },
   "inputWidgetPreferences": null,
   "language": "python",
   "notebookMetadata": {
    "pythonIndentUnit": 4
   },
   "notebookName": "example_notebook",
   "widgets": {}
  },
  "language_info": {
   "name": "python"
  }
 },
 "nbformat": 4,
 "nbformat_minor": 0
}
